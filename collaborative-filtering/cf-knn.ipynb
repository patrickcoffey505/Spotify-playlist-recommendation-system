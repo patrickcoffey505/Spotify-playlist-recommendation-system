{
 "cells": [
  {
   "cell_type": "code",
   "execution_count": 211,
   "metadata": {},
   "outputs": [],
   "source": [
    "import os\n",
    "import sys\n",
    "module_path = os.path.abspath(os.path.join('..'))\n",
    "if module_path not in sys.path:\n",
    "    sys.path.append(module_path)"
   ]
  },
  {
   "cell_type": "code",
   "execution_count": 212,
   "metadata": {},
   "outputs": [],
   "source": [
    "from scipy.sparse import load_npz\n",
    "\n",
    "train_csr = load_npz('../train_user_csr.npz')\n",
    "test_X_csr = load_npz('../testx_user_csr.npz')\n",
    "test_y_csr = load_npz('../testy_user_csr.npz')"
   ]
  },
  {
   "cell_type": "code",
   "execution_count": 180,
   "metadata": {},
   "outputs": [],
   "source": [
    "from scipy.sparse import csr_matrix\n",
    "\n",
    "class RecommendationAlgorithm:\n",
    "  def __init__(self):\n",
    "    pass\n",
    "\n",
    "  def fit(self, training_ratings: csr_matrix) -> None:\n",
    "    # Train the model on the training ratings\n",
    "    pass\n",
    "\n",
    "  def predict(self, user_ratings: csr_matrix) -> csr_matrix:\n",
    "    # Predict the ratings for the given users and items\n",
    "    pass"
   ]
  },
  {
   "cell_type": "code",
   "execution_count": 184,
   "metadata": {},
   "outputs": [],
   "source": [
    "import numpy as np\n",
    "from sklearn.neighbors import NearestNeighbors\n",
    "from sklearn.feature_extraction.text import TfidfTransformer\n",
    "\n",
    "class KNNAlgorithm(RecommendationAlgorithm):\n",
    "  def __init__(self, n_neighbors=5, distance_metric='cosine', weight_by_idf=False, normalizer=None):\n",
    "    self.nn_model = NearestNeighbors(n_neighbors=n_neighbors, metric=distance_metric)\n",
    "    self.normalizer = normalizer\n",
    "    if weight_by_idf:\n",
    "      self.transformer = TfidfTransformer(norm=normalizer)\n",
    "    self.train = []\n",
    "    self.weight_by_idf = weight_by_idf\n",
    "\n",
    "  def fit(self, train: csr_matrix):\n",
    "    # Train the model on the training ratings\n",
    "    if self.weight_by_idf:\n",
    "      _train = self.transformer.fit_transform(train)\n",
    "    self.train = train\n",
    "    self.nn_model.fit(_train)\n",
    "\n",
    "  def predict(self, seen: csr_matrix, n=500):\n",
    "    # Predict the ratings for the given users and items\n",
    "    if self.weight_by_idf:\n",
    "      _seen = self.transformer.transform(seen)\n",
    "    neighbors = self.nn_model.kneighbors(_seen, return_distance=False)\n",
    "    predicted_ratings = []\n",
    "    for (user_idx, user_neighbors_idx) in enumerate(neighbors):\n",
    "      averages = np.ravel(self.train[user_neighbors_idx, :].mean(axis=0))\n",
    "      already_added = np.sort(seen.indices[seen.indptr[user_idx]:seen.indptr[user_idx+1]])\n",
    "      averages[already_added] = -1\n",
    "      topn = np.argpartition(-averages, n)[:n]\n",
    "      predicted_ratings.append(topn[np.argsort(-averages[topn])])\n",
    "    return predicted_ratings\n"
   ]
  },
  {
   "cell_type": "code",
   "execution_count": 185,
   "metadata": {},
   "outputs": [],
   "source": [
    "np.seterr(divide='ignore', invalid='ignore')\n",
    "\n",
    "model = KNNAlgorithm(n_neighbors = 100, distance_metric = 'cosine', weight_by_idf=True, normalizer='l2')\n",
    "model.fit(train_csr)"
   ]
  },
  {
   "cell_type": "code",
   "execution_count": 186,
   "metadata": {},
   "outputs": [],
   "source": [
    "def batch_generator(a:csr_matrix, b:csr_matrix, batch_size:int = 1000):\n",
    "    num_samples = a.shape[0]\n",
    "    num_batches = (num_samples + batch_size - 1) // batch_size\n",
    "\n",
    "    for batch_idx in range(num_batches):\n",
    "        start_idx = batch_idx * batch_size\n",
    "        end_idx = min((batch_idx + 1) * batch_size, num_samples)\n",
    "\n",
    "        yield a[start_idx:end_idx], b[start_idx:end_idx]"
   ]
  },
  {
   "cell_type": "code",
   "execution_count": 187,
   "metadata": {},
   "outputs": [],
   "source": [
    "batch_size = 1000\n",
    "batch_gen = batch_generator(test_X_csr, test_y_csr, batch_size)\n",
    "\n",
    "pred = []\n",
    "actual = []\n",
    "\n",
    "batch_gen = batch_generator(test_X_csr, test_y_csr, 1000)\n",
    "\n",
    "for seen, unseen in batch_gen:\n",
    "  nnz = unseen.nonzero()\n",
    "  actual.extend([nnz[1][nnz[0] == i].tolist() for i in range(unseen.shape[0])])\n",
    "\n",
    "  batch_pred = model.predict(seen)\n",
    "  pred.extend(batch_pred)"
   ]
  },
  {
   "cell_type": "code",
   "execution_count": 215,
   "metadata": {},
   "outputs": [],
   "source": [
    "from evaluation import true_positives"
   ]
  },
  {
   "cell_type": "code",
   "execution_count": 216,
   "metadata": {},
   "outputs": [
    {
     "ename": "ImportError",
     "evalue": "cannot import name 'mean_avg_precision' from 'evaluation' (/Users/pcoffey/Dev/school/cs6711/spotify/spotify-playlist-recommendation-system/evaluation.py)",
     "output_type": "error",
     "traceback": [
      "\u001b[0;31m---------------------------------------------------------------------------\u001b[0m",
      "\u001b[0;31mImportError\u001b[0m                               Traceback (most recent call last)",
      "Cell \u001b[0;32mIn[216], line 1\u001b[0m\n\u001b[0;32m----> 1\u001b[0m \u001b[38;5;28;01mfrom\u001b[39;00m \u001b[38;5;21;01mevaluation\u001b[39;00m \u001b[38;5;28;01mimport\u001b[39;00m mean_avg_precision\n\u001b[1;32m      3\u001b[0m \u001b[38;5;28mprint\u001b[39m(\u001b[38;5;124m\"\u001b[39m\u001b[38;5;124mMAP: \u001b[39m\u001b[38;5;132;01m{:.4f}\u001b[39;00m\u001b[38;5;124m\"\u001b[39m\u001b[38;5;241m.\u001b[39mformat(mean_avg_precision(pred, actual)))\n",
      "\u001b[0;31mImportError\u001b[0m: cannot import name 'mean_avg_precision' from 'evaluation' (/Users/pcoffey/Dev/school/cs6711/spotify/spotify-playlist-recommendation-system/evaluation.py)"
     ]
    }
   ],
   "source": [
    "from evaluation import mean_avg_precision\n",
    "\n",
    "print(\"MAP: {:.4f}\".format(mean_avg_precision(pred, actual)))"
   ]
  },
  {
   "cell_type": "code",
   "execution_count": 193,
   "metadata": {},
   "outputs": [
    {
     "name": "stdout",
     "output_type": "stream",
     "text": [
      "Recall@5: 0.0810\n",
      "Recall@10: 0.1226\n",
      "Recall@15: 0.1523\n",
      "Recall@20: 0.1761\n",
      "Recall@30: 0.2136\n",
      "Recall@40: 0.2429\n",
      "Recall@50: 0.2673\n",
      "Recall@60: 0.2884\n",
      "Recall@70: 0.3069\n",
      "Recall@80: 0.3233\n",
      "Recall@90: 0.3382\n",
      "Recall@100: 0.3516\n",
      "Recall@200: 0.4441\n",
      "Recall@300: 0.4980\n",
      "Recall@400: 0.5346\n",
      "Recall@500: 0.5615\n"
     ]
    }
   ],
   "source": [
    "import numpy as np\n",
    "\n",
    "def recall_at_k(pred, actual, k):\n",
    "    recall_sum = 0.0\n",
    "    num_users = len(actual)\n",
    "    \n",
    "    for i in range(num_users):\n",
    "        true_set = set(actual[i])\n",
    "        pred_set = set(pred[i][:k])\n",
    "        recall_sum += len(true_set.intersection(pred_set)) / float(len(true_set))\n",
    "    \n",
    "    recall_at_k = recall_sum / num_users\n",
    "    return recall_at_k\n",
    "\n",
    "for k in [5,10,15,20,30,40,50,60,70,80,90,100,200,300,400,500]:\n",
    "    recall = recall_at_k(pred, actual, k)\n",
    "    print(\"Recall@{}: {:.4f}\".format(k, recall))\n"
   ]
  },
  {
   "cell_type": "code",
   "execution_count": 194,
   "metadata": {},
   "outputs": [
    {
     "data": {
      "image/png": "[encoded data removed]",
      "text/plain": [
       "<Figure size 600x400 with 1 Axes>"
      ]
     },
     "metadata": {},
     "output_type": "display_data"
    }
   ],
   "source": [
    "import matplotlib.pyplot as plt\n",
    "import seaborn as sns\n",
    "\n",
    "tp = sum([true_positives(x,y) for x, y in zip(pred, actual)])\n",
    "fp = sum([false_positives(x,y) for x, y in zip(pred, actual)])\n",
    "fn = sum([false_negatives(x,y) for x, y in zip(pred, actual)])\n",
    "\n",
    "\n",
    "# Plot confusion matrix without true negatives\n",
    "plt.figure(figsize=(6, 4))\n",
    "sns.heatmap([[tp/(tp+fn), fn/(tp+fn)]], annot=True, fmt = '.2%', cmap='Blues', cbar=False,\n",
    "            xticklabels=['Positive', 'Negative'],\n",
    "            yticklabels=['Positive'])\n",
    "plt.title('Recall')\n",
    "plt.xlabel('Predicted label')\n",
    "plt.ylabel('True label')\n",
    "plt.show()"
   ]
  },
  {
   "cell_type": "code",
   "execution_count": 178,
   "metadata": {},
   "outputs": [],
   "source": [
    "np.save('cf_knn_candidates', pred)"
   ]
  }
 ],
 "metadata": {
  "kernelspec": {
   "display_name": "spotify-rec",
   "language": "python",
   "name": "python3"
  },
  "language_info": {
   "codemirror_mode": {
    "name": "ipython",
    "version": 3
   },
   "file_extension": ".py",
   "mimetype": "text/x-python",
   "name": "python",
   "nbconvert_exporter": "python",
   "pygments_lexer": "ipython3",
   "version": "3.10.2"
  }
 },
 "nbformat": 4,
 "nbformat_minor": 2
}
