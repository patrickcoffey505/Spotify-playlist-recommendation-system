{
 "cells": [
  {
   "cell_type": "code",
   "execution_count": 1,
   "metadata": {},
   "outputs": [],
   "source": [
    "%%capture\n",
    "import os\n",
    "\n",
    "# unzip data\n",
    "if not os.path.exists('.data/data'):\n",
    "  !unzip spotify_million_playlist_dataset.zip -d .data/"
   ]
  },
  {
   "cell_type": "code",
   "execution_count": 21,
   "metadata": {},
   "outputs": [],
   "source": [
    "import glob\n",
    "import json\n",
    "import pandas as pd\n",
    "\n",
    "lyrics = pd.read_csv('available_songs.csv', index_col=0, names=['artist_name', 'track_name'], header=0)\n",
    "\n",
    "def process_file(filename):\n",
    "    with open(filename, 'r') as file:\n",
    "        content = json.load(file)\n",
    "        playlists_data = pd.DataFrame([{'pid': playlist['pid'],\n",
    "                           'track_uri': track['track_uri'],\n",
    "                           'artist_name': track['artist_name'],\n",
    "                           'track_name': track['track_name']}\n",
    "                          for playlist in content['playlists']\n",
    "                          for track in playlist['tracks']])\n",
    "        playlists_data = pd.merge(playlists_data, lyrics, on=['artist_name', 'track_name'])\n",
    "        playlists_data = playlists_data[playlists_data.groupby('pid')['track_uri'].transform('count') >= 30]\n",
    "        playlists_data = playlists_data.drop(columns=['artist_name', 'track_name'])\n",
    "    return playlists_data"
   ]
  },
  {
   "cell_type": "code",
   "execution_count": 22,
   "metadata": {},
   "outputs": [],
   "source": [
    "file_prefix = \".data/data/*\"\n",
    "\n",
    "# process all files in directory\n",
    "def playlist_generator():\n",
    "    for filename in sorted(glob.glob(file_prefix)):\n",
    "        yield process_file(filename)"
   ]
  },
  {
   "cell_type": "code",
   "execution_count": 23,
   "metadata": {},
   "outputs": [
    {
     "data": {
      "text/html": [
       "<div>\n",
       "<style scoped>\n",
       "    .dataframe tbody tr th:only-of-type {\n",
       "        vertical-align: middle;\n",
       "    }\n",
       "\n",
       "    .dataframe tbody tr th {\n",
       "        vertical-align: top;\n",
       "    }\n",
       "\n",
       "    .dataframe thead th {\n",
       "        text-align: right;\n",
       "    }\n",
       "</style>\n",
       "<table border=\"1\" class=\"dataframe\">\n",
       "  <thead>\n",
       "    <tr style=\"text-align: right;\">\n",
       "      <th></th>\n",
       "      <th>pid</th>\n",
       "      <th>track_uri</th>\n",
       "    </tr>\n",
       "  </thead>\n",
       "  <tbody>\n",
       "    <tr>\n",
       "      <th>0</th>\n",
       "      <td>0</td>\n",
       "      <td>spotify:track:6I9VzXrHxO9rA9A5euc8Ak</td>\n",
       "    </tr>\n",
       "    <tr>\n",
       "      <th>1</th>\n",
       "      <td>0</td>\n",
       "      <td>spotify:track:1AWQoqb9bSvzTjaLralEkT</td>\n",
       "    </tr>\n",
       "    <tr>\n",
       "      <th>2</th>\n",
       "      <td>0</td>\n",
       "      <td>spotify:track:0XUfyU2QviPAs6bxSpXYG4</td>\n",
       "    </tr>\n",
       "    <tr>\n",
       "      <th>3</th>\n",
       "      <td>0</td>\n",
       "      <td>spotify:track:68vgtRHr7iZHpzGpon6Jlo</td>\n",
       "    </tr>\n",
       "    <tr>\n",
       "      <th>4</th>\n",
       "      <td>0</td>\n",
       "      <td>spotify:track:3BxWKCI06eQ5Od8TY2JBeA</td>\n",
       "    </tr>\n",
       "  </tbody>\n",
       "</table>\n",
       "</div>"
      ],
      "text/plain": [
       "   pid                             track_uri\n",
       "0    0  spotify:track:6I9VzXrHxO9rA9A5euc8Ak\n",
       "1    0  spotify:track:1AWQoqb9bSvzTjaLralEkT\n",
       "2    0  spotify:track:0XUfyU2QviPAs6bxSpXYG4\n",
       "3    0  spotify:track:68vgtRHr7iZHpzGpon6Jlo\n",
       "4    0  spotify:track:3BxWKCI06eQ5Od8TY2JBeA"
      ]
     },
     "execution_count": 23,
     "metadata": {},
     "output_type": "execute_result"
    }
   ],
   "source": [
    "playlist_track_df = pd.DataFrame()\n",
    "\n",
    "# process data into dataframe with columns (pid, track_uri)\n",
    "for playlists_chunk in playlist_generator():\n",
    "    chunk_df = pd.DataFrame(playlists_chunk)\n",
    "    playlist_track_df = pd.concat([playlist_track_df, chunk_df], ignore_index=True)\n",
    "\n",
    "# Display the DataFrame\n",
    "playlist_track_df.head()"
   ]
  },
  {
   "cell_type": "code",
   "execution_count": 25,
   "metadata": {},
   "outputs": [
    {
     "data": {
      "text/plain": [
       "(103883,)"
      ]
     },
     "execution_count": 25,
     "metadata": {},
     "output_type": "execute_result"
    }
   ],
   "source": [
    "playlist_track_df['pid'].unique().shape"
   ]
  },
  {
   "cell_type": "code",
   "execution_count": 26,
   "metadata": {},
   "outputs": [
    {
     "data": {
      "image/png": "[encoded data removed]",
      "text/plain": [
       "<Figure size 640x480 with 1 Axes>"
      ]
     },
     "metadata": {},
     "output_type": "display_data"
    }
   ],
   "source": [
    "import matplotlib.pyplot as plt\n",
    "\n",
    "# Grouping by 'pid' and counting 'trackid'\n",
    "pid_counts = playlist_track_df.groupby('pid')['track_uri'].transform('count')\n",
    "\n",
    "# Plotting histogram\n",
    "plt.hist(pid_counts, bins=range(0, max(pid_counts)+10, 10), edgecolor='black')\n",
    "plt.xlabel('Number of tracks per playlist')\n",
    "plt.ylabel('Number of playlists')\n",
    "plt.title('Histogram of playlist sizes')\n",
    "plt.show()"
   ]
  },
  {
   "cell_type": "code",
   "execution_count": 27,
   "metadata": {},
   "outputs": [
    {
     "data": {
      "text/html": [
       "<div>\n",
       "<style scoped>\n",
       "    .dataframe tbody tr th:only-of-type {\n",
       "        vertical-align: middle;\n",
       "    }\n",
       "\n",
       "    .dataframe tbody tr th {\n",
       "        vertical-align: top;\n",
       "    }\n",
       "\n",
       "    .dataframe thead th {\n",
       "        text-align: right;\n",
       "    }\n",
       "</style>\n",
       "<table border=\"1\" class=\"dataframe\">\n",
       "  <thead>\n",
       "    <tr style=\"text-align: right;\">\n",
       "      <th></th>\n",
       "      <th>pid</th>\n",
       "      <th>trackid</th>\n",
       "    </tr>\n",
       "  </thead>\n",
       "  <tbody>\n",
       "    <tr>\n",
       "      <th>0</th>\n",
       "      <td>0</td>\n",
       "      <td>0</td>\n",
       "    </tr>\n",
       "    <tr>\n",
       "      <th>1</th>\n",
       "      <td>0</td>\n",
       "      <td>1</td>\n",
       "    </tr>\n",
       "    <tr>\n",
       "      <th>2</th>\n",
       "      <td>0</td>\n",
       "      <td>2</td>\n",
       "    </tr>\n",
       "    <tr>\n",
       "      <th>3</th>\n",
       "      <td>0</td>\n",
       "      <td>3</td>\n",
       "    </tr>\n",
       "    <tr>\n",
       "      <th>4</th>\n",
       "      <td>0</td>\n",
       "      <td>4</td>\n",
       "    </tr>\n",
       "  </tbody>\n",
       "</table>\n",
       "</div>"
      ],
      "text/plain": [
       "   pid  trackid\n",
       "0    0        0\n",
       "1    0        1\n",
       "2    0        2\n",
       "3    0        3\n",
       "4    0        4"
      ]
     },
     "execution_count": 27,
     "metadata": {},
     "output_type": "execute_result"
    }
   ],
   "source": [
    "import numpy as np\n",
    "\n",
    "# create global mapping for trackid: track_uri\n",
    "track_map = playlist_track_df['track_uri'].unique()\n",
    "np.save('track_map', track_map)\n",
    "\n",
    "# create local lookup for track_uri: trackid\n",
    "lookup = {value: index for index, value in enumerate(track_map)}\n",
    "\n",
    "# replace track_uri with trackid\n",
    "playlist_track_df['trackid'] = playlist_track_df['track_uri'].apply(lambda x: lookup[x])\n",
    "playlist_track_df = playlist_track_df.drop(['track_uri'], axis=1)\n",
    "playlist_track_df.head()"
   ]
  },
  {
   "cell_type": "code",
   "execution_count": 28,
   "metadata": {},
   "outputs": [
    {
     "name": "stderr",
     "output_type": "stream",
     "text": [
      "/var/folders/t0/r0qybgm95y5342ymf4p7rzg00000gn/T/ipykernel_48762/1673942246.py:16: SettingWithCopyWarning: \n",
      "A value is trying to be set on a copy of a slice from a DataFrame.\n",
      "Try using .loc[row_indexer,col_indexer] = value instead\n",
      "\n",
      "See the caveats in the documentation: https://pandas.pydata.org/pandas-docs/stable/user_guide/indexing.html#returning-a-view-versus-a-copy\n",
      "  train['pid'] = train.groupby('pid').ngroup()\n",
      "/var/folders/t0/r0qybgm95y5342ymf4p7rzg00000gn/T/ipykernel_48762/1673942246.py:17: SettingWithCopyWarning: \n",
      "A value is trying to be set on a copy of a slice from a DataFrame.\n",
      "Try using .loc[row_indexer,col_indexer] = value instead\n",
      "\n",
      "See the caveats in the documentation: https://pandas.pydata.org/pandas-docs/stable/user_guide/indexing.html#returning-a-view-versus-a-copy\n",
      "  test['pid'] = test.groupby('pid').ngroup()\n"
     ]
    }
   ],
   "source": [
    "import random\n",
    "\n",
    "# get test pids\n",
    "random_sample = random.sample(range(1000000), 200000)\n",
    "\n",
    "# Create a boolean mask for test set\n",
    "test_mask = playlist_track_df['pid'].isin(random_sample)\n",
    "\n",
    "# Filter data into train and test sets based on the mask\n",
    "test = playlist_track_df[test_mask]\n",
    "train = playlist_track_df[~test_mask]\n",
    "\n",
    "train.reset_index(drop=True, inplace=True)\n",
    "test.reset_index(drop=True, inplace=True)\n",
    "\n",
    "train['pid'] = train.groupby('pid').ngroup()\n",
    "test['pid'] = test.groupby('pid').ngroup()"
   ]
  },
  {
   "cell_type": "code",
   "execution_count": 29,
   "metadata": {},
   "outputs": [],
   "source": [
    "from sklearn.model_selection import train_test_split\n",
    "\n",
    "# split test set into seen and unseen\n",
    "test_X, test_y = train_test_split(test, test_size = 0.2, stratify=test['pid'])"
   ]
  },
  {
   "cell_type": "code",
   "execution_count": 30,
   "metadata": {},
   "outputs": [],
   "source": [
    "from scipy import sparse\n",
    "\n",
    "train_csr = sparse.coo_matrix((np.ones(len(train)), (train[\"pid\"], train[\"trackid\"])), shape=(train['pid'].nunique(), len(track_map))).tocsr()\n",
    "test_X_csr = sparse.coo_matrix((np.ones(len(test_X)), (test_X[\"pid\"], test_X[\"trackid\"])), shape=(test_X['pid'].nunique(), len(track_map))).tocsr()\n",
    "test_y_csr = sparse.coo_matrix((np.ones(len(test_y)), (test_y[\"pid\"], test_y[\"trackid\"])), shape=(test_y['pid'].nunique(), len(track_map))).tocsr()"
   ]
  },
  {
   "cell_type": "code",
   "execution_count": 31,
   "metadata": {},
   "outputs": [],
   "source": [
    "from scipy.sparse import save_npz\n",
    "\n",
    "save_npz(\"train_user_csr\", train_csr)\n",
    "save_npz(\"testx_user_csr\", test_X_csr)\n",
    "save_npz(\"testy_user_csr\", test_y_csr)"
   ]
  }
 ],
 "metadata": {
  "kernelspec": {
   "display_name": "spotify-rec",
   "language": "python",
   "name": "python3"
  },
  "language_info": {
   "codemirror_mode": {
    "name": "ipython",
    "version": 3
   },
   "file_extension": ".py",
   "mimetype": "text/x-python",
   "name": "python",
   "nbconvert_exporter": "python",
   "pygments_lexer": "ipython3",
   "version": "3.10.2"
  }
 },
 "nbformat": 4,
 "nbformat_minor": 2
}
